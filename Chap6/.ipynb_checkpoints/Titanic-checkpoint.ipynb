{
 "cells": [
  {
   "cell_type": "code",
   "execution_count": 1,
   "metadata": {},
   "outputs": [
    {
     "name": "stderr",
     "output_type": "stream",
     "text": [
      "┌ Info: Loading DataFrames support into Gadfly.jl\n",
      "└ @ Gadfly /Users/Jonathan/.julia/packages/Gadfly/ew1SM/src/mapping.jl:228\n",
      "┌ Info: Precompiling GLM [38e38edf-8417-5370-95a0-9cbb8c7f171a]\n",
      "└ @ Base loading.jl:1186\n"
     ]
    }
   ],
   "source": [
    "# Julia V1.0.1\n",
    "using CSV, DataFrames, Gadfly, GLM, Distributions"
   ]
  },
  {
   "cell_type": "code",
   "execution_count": 8,
   "metadata": {},
   "outputs": [],
   "source": [
    "data = CSV.read(\"Titanic_train.csv\");"
   ]
  },
  {
   "cell_type": "code",
   "execution_count": 9,
   "metadata": {},
   "outputs": [],
   "source": [
    "# Deux variables indicatrices pour la classe des passagers\n",
    "\n",
    "Pclass = collect(skipmissing(data[:Pclass]))\n",
    "n = length(Pclass)\n",
    "X₁ = zeros(n)\n",
    "X₂ = zeros(n)\n",
    "for i in eachindex(Pclass) \n",
    "    if Pclass[i]==2\n",
    "        X₂[i] = 1\n",
    "    elseif Pclass[i]==1\n",
    "        X₁[i] = 1\n",
    "    end   \n",
    "end"
   ]
  },
  {
   "cell_type": "code",
   "execution_count": 18,
   "metadata": {},
   "outputs": [
    {
     "data": {
      "text/plain": [
       "891"
      ]
     },
     "execution_count": 18,
     "metadata": {},
     "output_type": "execute_result"
    }
   ],
   "source": [
    "length(data[:Pclass])"
   ]
  },
  {
   "cell_type": "markdown",
   "metadata": {},
   "source": [
    "# Estimation des paramètres par maximum de la vraisemblance\n",
    "## Modèle de régression logistique avec le lien logit"
   ]
  },
  {
   "cell_type": "code",
   "execution_count": 10,
   "metadata": {},
   "outputs": [
    {
     "data": {
      "text/plain": [
       "StatsModels.DataFrameRegressionModel{GeneralizedLinearModel{GlmResp{Array{Float64,1},Binomial{Float64},LogitLink},DensePredChol{Float64,LinearAlgebra.Cholesky{Float64,Array{Float64,2}}}},Array{Float64,2}}\n",
       "\n",
       "Formula: Y ~ 1 + X₁ + X₂\n",
       "\n",
       "Coefficients:\n",
       "             Estimate Std.Error  z value Pr(>|z|)\n",
       "(Intercept)  -1.13977  0.105316 -10.8224   <1e-26\n",
       "X₁             1.6704   0.17591  9.49574   <1e-20\n",
       "X₂            1.03097   0.18137  5.68434    <1e-7\n"
      ]
     },
     "execution_count": 10,
     "metadata": {},
     "output_type": "execute_result"
    }
   ],
   "source": [
    "X = hcat(ones(n),X₁,X₂)\n",
    "\n",
    "# On stocke les données dans un dataframe pour utiliser la package GLM de Julia\n",
    "df = DataFrame(X₁=X₁,X₂=X₂,Y=data[:Survived])\n",
    "\n",
    "logit = glm(@formula(Y ~ X₁+X₂), df, Binomial(), LogitLink())"
   ]
  },
  {
   "cell_type": "code",
   "execution_count": 11,
   "metadata": {},
   "outputs": [
    {
     "name": "stdout",
     "output_type": "stream",
     "text": [
      "Un passager de la première classe a une probabilité de [0.62963] de survivre.\n",
      "Un passager de la deuxième classe a une probabilité de [0.472826] de survivre.\n",
      "Un passager de la troisième classe a une probabilité de [0.242363] de survivre.\n"
     ]
    }
   ],
   "source": [
    "# Estimation des probabilité de survie par classe\n",
    "\n",
    "β̂ = coef(logit)\n",
    "x₁ = [1 1 0];\n",
    "p₁ = exp.(x₁*β̂)./(1 .+ exp.(x₁*β̂))\n",
    "println(\"Un passager de la première classe a une probabilité de $p₁ de survivre.\")\n",
    "x₂ = [1 0 1];\n",
    "p₂ = exp.(x₂*β̂)./(1 .+ exp.(x₂*β̂))\n",
    "println(\"Un passager de la deuxième classe a une probabilité de $p₂ de survivre.\")\n",
    "x₃ = [1 0 0];\n",
    "p₃ = exp.(x₃*β̂)./(1 .+ exp.(x₃*β̂))\n",
    "println(\"Un passager de la troisième classe a une probabilité de $p₃ de survivre.\")"
   ]
  },
  {
   "cell_type": "markdown",
   "metadata": {},
   "source": [
    "# Estimation des paramètres par maximum de la vraisemblance\n",
    "## Modèle de régression logistique avec le lien probit"
   ]
  },
  {
   "cell_type": "code",
   "execution_count": 12,
   "metadata": {},
   "outputs": [
    {
     "data": {
      "text/plain": [
       "StatsModels.DataFrameRegressionModel{GeneralizedLinearModel{GlmResp{Array{Float64,1},Binomial{Float64},ProbitLink},DensePredChol{Float64,LinearAlgebra.Cholesky{Float64,Array{Float64,2}}}},Array{Float64,2}}\n",
       "\n",
       "Formula: Y ~ 1 + X₁ + X₂\n",
       "\n",
       "Coefficients:\n",
       "              Estimate Std.Error  z value Pr(>|z|)\n",
       "(Intercept)  -0.698723 0.0618591 -11.2954   <1e-28\n",
       "X₁              1.0296  0.106743  9.64559   <1e-21\n",
       "X₂            0.630555  0.111256   5.6676    <1e-7\n"
      ]
     },
     "execution_count": 12,
     "metadata": {},
     "output_type": "execute_result"
    }
   ],
   "source": [
    "X = hcat(ones(n),X₁,X₂)\n",
    "\n",
    "# On stocke les données dans un dataframe pour utiliser la package GLM de Julia\n",
    "df = DataFrame(X₁=X₁,X₂=X₂,Y=data[:Survived])\n",
    "\n",
    "probit = glm(@formula(Y ~ X₁+X₂), df, Binomial(), ProbitLink())"
   ]
  },
  {
   "cell_type": "code",
   "execution_count": 15,
   "metadata": {},
   "outputs": [
    {
     "name": "stdout",
     "output_type": "stream",
     "text": [
      "Un passager de la première classe a une probabilité de [0.62963] de survivre.\n",
      "Un passager de la deuxième classe a une probabilité de [0.472826] de survivre.\n",
      "Un passager de la troisième classe a une probabilité de [0.242363] de survivre.\n"
     ]
    }
   ],
   "source": [
    "# Estimation des probabilité de survie par classe\n",
    "\n",
    "β̂ = coef(probit)\n",
    "x₁ = [1 1 0];\n",
    "p₁ = cdf.(Normal(),(x₁*β̂))\n",
    "println(\"Un passager de la première classe a une probabilité de $p₁ de survivre.\")\n",
    "x₂ = [1 0 1];\n",
    "p₂ = cdf.(Normal(),(x₂*β̂))\n",
    "println(\"Un passager de la deuxième classe a une probabilité de $p₂ de survivre.\")\n",
    "x₃ = [1 0 0];\n",
    "p₃ = cdf.(Normal(),(x₃*β̂))\n",
    "println(\"Un passager de la troisième classe a une probabilité de $p₃ de survivre.\")"
   ]
  },
  {
   "cell_type": "markdown",
   "metadata": {},
   "source": [
    "## Sélection de la fonction de lien"
   ]
  },
  {
   "cell_type": "code",
   "execution_count": 19,
   "metadata": {},
   "outputs": [
    {
     "name": "stdout",
     "output_type": "stream",
     "text": [
      "Le modèle avec le lien logit est meilleur.\n"
     ]
    }
   ],
   "source": [
    "Y = convert(Array{Float64},data[:Survived])\n",
    "\n",
    "β̂ = coef(logit)\n",
    "θ = exp.(X*β̂)./(1 .+ exp.(X*β̂))\n",
    "f = Bernoulli.(θ)\n",
    "BIC_logit = sum(logpdf.(f,Y)) - 2/2*log(n) \n",
    "\n",
    "\n",
    "β̂ = coef(probit)\n",
    "θ = cdf.(Normal(0,1),X*β̂)\n",
    "f = Bernoulli.(θ)\n",
    "BIC_probit = sum(logpdf.(f,Y)) - 2/2*log(n) \n",
    "\n",
    "if BIC_logit>BIC_probit\n",
    "    println(\"Le modèle avec le lien logit est meilleur.\")\n",
    "else\n",
    "    println(\"Le modèle avec le lien probit est meilleur.\")\n",
    "end"
   ]
  },
  {
   "cell_type": "markdown",
   "metadata": {},
   "source": [
    "# Prédiction pour l'échantillon de test avec le modèle logit"
   ]
  },
  {
   "cell_type": "code",
   "execution_count": 6,
   "metadata": {},
   "outputs": [
    {
     "data": {
      "text/plain": [
       "\"Titanic_prediction.csv\""
      ]
     },
     "execution_count": 6,
     "metadata": {},
     "output_type": "execute_result"
    }
   ],
   "source": [
    "# Prédiction de la survie pour les passagers de l'échantillon de test\n",
    "\n",
    "test = CSV.read(\"Titanic_test.csv\")\n",
    "\n",
    "Pclass = collect(skipmissing(test[:Pclass]))\n",
    "n = length(Pclass)\n",
    "X₁ = zeros(n)\n",
    "X₂ = zeros(n)\n",
    "for i in eachindex(Pclass) \n",
    "    if Pclass[i]==2\n",
    "        X₂[i] = 1\n",
    "    elseif Pclass[i]==1\n",
    "        X₁[i] = 1\n",
    "    end   \n",
    "end\n",
    "\n",
    "X = hcat(ones(n),X₁,X₂)\n",
    "\n",
    "θ̂ = exp.(X*β̂)./(1 .+ exp.(X*β̂))\n",
    "Ŷ = zeros(Int64,n)\n",
    "Ŷ[θ̂.>.5] .= 1\n",
    "\n",
    "prediction = DataFrame(PassengerId = test[:PassengerId], Survived = Ŷ)\n",
    "CSV.write(\"Titanic_prediction.csv\",prediction)"
   ]
  },
  {
   "cell_type": "code",
   "execution_count": null,
   "metadata": {},
   "outputs": [],
   "source": []
  }
 ],
 "metadata": {
  "kernelspec": {
   "display_name": "Julia 1.0.0",
   "language": "julia",
   "name": "julia-1.0"
  },
  "language_info": {
   "file_extension": ".jl",
   "mimetype": "application/julia",
   "name": "julia",
   "version": "1.0.0"
  }
 },
 "nbformat": 4,
 "nbformat_minor": 2
}
