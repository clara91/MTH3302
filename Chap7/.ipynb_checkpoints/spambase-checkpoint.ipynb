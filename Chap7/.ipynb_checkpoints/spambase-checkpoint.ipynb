{
 "cells": [
  {
   "cell_type": "markdown",
   "metadata": {},
   "source": [
    "# Spam classification. \n",
    "\n",
    "À l'aide de plusieurs caractérisitques du courriel, on souhaite déterminer s'il s'agit d'un spam ou d'un ham, un courriel légitime. Le jeu de données provient de ftp://ftp.ics.uci.edu/pub/machine-learning-databases/spambase/\n",
    "\n",
    "Number of Instances: 4601 (1813 Spam = 39.4%)\n",
    "Number of Attributes: 58 (57 continuous, 1 nominal class label)\n",
    "\n",
    "Attribute Information:\n",
    "The last column of 'spambase.data' denotes whether the e-mail was \n",
    "considered spam (1) or not (0), i.e. unsolicited commercial e-mail.  \n",
    "Most of the attributes indicate whether a particular word or\n",
    "character was frequently occuring in the e-mail.  The run-length\n",
    "attributes (55-57) measure the length of sequences of consecutive \n",
    "capital letters.  For the statistical measures of each attribute, \n",
    "see the end of this file.  Here are the definitions of the attributes:\n",
    "\n",
    "48 continuous real [0,100] attributes of type word_freq_WORD \n",
    "= percentage of words in the e-mail that match WORD,\n",
    "i.e. 100 * (number of times the WORD appears in the e-mail) / \n",
    "total number of words in e-mail.  A \"word\" in this case is any \n",
    "string of alphanumeric characters bounded by non-alphanumeric \n",
    "characters or end-of-string.\n",
    "\n",
    "6 continuous real [0,100] attributes of type char_freq_CHAR\n",
    "= percentage of characters in the e-mail that match CHAR,\n",
    "i.e. 100 * (number of CHAR occurences) / total characters in e-mail\n",
    "\n",
    "1 continuous real [1,...] attribute of type capital_run_length_average\n",
    "= average length of uninterrupted sequences of capital letters\n",
    "\n",
    "1 continuous integer [1,...] attribute of type capital_run_length_longest\n",
    "= length of longest uninterrupted sequence of capital letters\n",
    "\n",
    "1 continuous integer [1,...] attribute of type capital_run_length_total\n",
    "= sum of length of uninterrupted sequences of capital letters\n",
    "= total number of capital letters in the e-mail\n",
    "\n",
    "1 nominal {0,1} class attribute of type spam\n",
    "= denotes whether the e-mail was considered spam (1) or not (0), \n",
    "i.e. unsolicited commercial e-mail."
   ]
  },
  {
   "cell_type": "code",
   "execution_count": 1,
   "metadata": {},
   "outputs": [
    {
     "name": "stderr",
     "output_type": "stream",
     "text": [
      "┌ Info: Recompiling stale cache file /Users/jonathan/.julia/compiled/v0.7/CSV/HHBkp.ji for CSV [336ed68f-0bac-5ca0-87d4-7b16caf5d00b]\n",
      "└ @ Base loading.jl:1185\n",
      "┌ Info: Loading DataFrames support into Gadfly.jl\n",
      "└ @ Gadfly /Users/jonathan/.julia/packages/Gadfly/ew1SM/src/mapping.jl:228\n"
     ]
    }
   ],
   "source": [
    "# Julia V0.7\n",
    "using CSV, DataFrames, Gadfly, LinearAlgebra, Statistics, Random"
   ]
  },
  {
   "cell_type": "code",
   "execution_count": 5,
   "metadata": {},
   "outputs": [
    {
     "data": {
      "text/plain": [
       "4601"
      ]
     },
     "execution_count": 5,
     "metadata": {},
     "output_type": "execute_result"
    }
   ],
   "source": [
    "data = CSV.read(\"spambase.data\",header=0)\n",
    "head(data)\n",
    "p = size(data,2)-1\n",
    "n = size(data,1)"
   ]
  },
  {
   "cell_type": "code",
   "execution_count": 15,
   "metadata": {},
   "outputs": [
    {
     "data": {
      "text/html": [
       "<table class=\"data-frame\"><thead><tr><th></th><th>Column1</th><th>Column2</th><th>Column3</th><th>Column4</th><th>Column5</th><th>Column6</th><th>Column7</th><th>Column8</th><th>Column9</th><th>Column10</th><th>Column11</th><th>Column12</th><th>Column13</th><th>Column14</th><th>Column15</th><th>Column16</th><th>Column17</th><th>Column18</th><th>Column19</th><th>Column20</th><th>Column21</th><th>Column22</th><th>Column23</th><th>Column24</th><th>Column25</th><th>Column26</th><th>Column27</th><th>Column28</th><th>Column29</th><th>Column30</th><th>Column31</th><th>Column32</th><th>Column33</th><th>Column34</th><th>Column35</th><th>Column36</th><th>Column37</th><th>Column38</th><th>Column39</th><th>Column40</th><th>Column41</th><th>Column42</th><th>Column43</th><th>Column44</th><th>Column45</th><th>Column46</th><th>Column47</th><th>Column48</th><th>Column49</th><th>Column50</th><th>Column51</th><th>Column52</th><th>Column53</th><th>Column54</th><th>Column55</th><th>Column56</th><th>Column57</th><th>Column58</th></tr><tr><th></th><th>Float64⍰</th><th>Float64⍰</th><th>Float64⍰</th><th>Float64⍰</th><th>Float64⍰</th><th>Float64⍰</th><th>Float64⍰</th><th>Float64⍰</th><th>Float64⍰</th><th>Float64⍰</th><th>Float64⍰</th><th>Float64⍰</th><th>Float64⍰</th><th>Float64⍰</th><th>Float64⍰</th><th>Float64⍰</th><th>Float64⍰</th><th>Float64⍰</th><th>Float64⍰</th><th>Float64⍰</th><th>Float64⍰</th><th>Float64⍰</th><th>Float64⍰</th><th>Float64⍰</th><th>Float64⍰</th><th>Float64⍰</th><th>Float64⍰</th><th>Float64⍰</th><th>Float64⍰</th><th>Float64⍰</th><th>Float64⍰</th><th>Float64⍰</th><th>Float64⍰</th><th>Float64⍰</th><th>Float64⍰</th><th>Float64⍰</th><th>Float64⍰</th><th>Float64⍰</th><th>Float64⍰</th><th>Float64⍰</th><th>Float64⍰</th><th>Float64⍰</th><th>Float64⍰</th><th>Float64⍰</th><th>Float64⍰</th><th>Float64⍰</th><th>Float64⍰</th><th>Float64⍰</th><th>Float64⍰</th><th>Float64⍰</th><th>Float64⍰</th><th>Float64⍰</th><th>Float64⍰</th><th>Float64⍰</th><th>Float64⍰</th><th>Int64⍰</th><th>Int64⍰</th><th>Int64⍰</th></tr></thead><tbody><tr><th>1</th><td>0.0</td><td>0.0</td><td>0.0</td><td>0.0</td><td>0.0</td><td>0.0</td><td>0.0</td><td>0.0</td><td>0.0</td><td>0.0</td><td>0.0</td><td>1.28</td><td>0.0</td><td>0.0</td><td>0.0</td><td>0.0</td><td>0.0</td><td>0.0</td><td>3.84</td><td>0.0</td><td>0.0</td><td>0.0</td><td>0.0</td><td>0.0</td><td>0.0</td><td>0.0</td><td>0.0</td><td>0.0</td><td>0.0</td><td>0.0</td><td>0.0</td><td>0.0</td><td>0.0</td><td>0.0</td><td>0.0</td><td>0.0</td><td>0.0</td><td>0.0</td><td>0.0</td><td>0.0</td><td>0.0</td><td>0.0</td><td>0.0</td><td>0.0</td><td>0.0</td><td>2.56</td><td>0.0</td><td>0.0</td><td>0.182</td><td>0.182</td><td>0.0</td><td>0.0</td><td>0.0</td><td>0.0</td><td>1.0</td><td>1</td><td>9</td><td>0</td></tr><tr><th>2</th><td>0.0</td><td>0.0</td><td>0.0</td><td>0.0</td><td>0.93</td><td>0.0</td><td>0.0</td><td>0.0</td><td>0.0</td><td>0.0</td><td>0.0</td><td>0.93</td><td>0.0</td><td>0.0</td><td>0.0</td><td>0.0</td><td>0.0</td><td>0.0</td><td>0.0</td><td>0.0</td><td>0.0</td><td>0.0</td><td>0.0</td><td>0.0</td><td>3.73</td><td>0.0</td><td>0.0</td><td>0.0</td><td>0.0</td><td>0.0</td><td>0.0</td><td>0.0</td><td>3.73</td><td>0.0</td><td>0.0</td><td>0.0</td><td>0.0</td><td>0.0</td><td>0.0</td><td>0.0</td><td>0.0</td><td>0.0</td><td>0.0</td><td>0.0</td><td>0.0</td><td>0.0</td><td>0.0</td><td>0.0</td><td>0.0</td><td>0.0</td><td>0.0</td><td>0.0</td><td>0.0</td><td>0.0</td><td>1.533</td><td>7</td><td>46</td><td>0</td></tr><tr><th>3</th><td>0.0</td><td>0.0</td><td>0.0</td><td>0.0</td><td>0.0</td><td>0.0</td><td>0.0</td><td>0.0</td><td>0.0</td><td>0.0</td><td>0.0</td><td>0.0</td><td>0.0</td><td>0.0</td><td>0.0</td><td>0.0</td><td>0.0</td><td>0.0</td><td>0.0</td><td>0.0</td><td>0.0</td><td>0.0</td><td>0.0</td><td>0.0</td><td>2.17</td><td>0.0</td><td>0.0</td><td>0.0</td><td>0.0</td><td>0.0</td><td>0.0</td><td>0.0</td><td>0.0</td><td>0.0</td><td>2.17</td><td>0.0</td><td>0.0</td><td>0.0</td><td>0.0</td><td>0.0</td><td>0.0</td><td>0.0</td><td>0.0</td><td>0.0</td><td>0.0</td><td>0.0</td><td>0.0</td><td>0.0</td><td>0.0</td><td>0.682</td><td>0.0</td><td>0.0</td><td>0.0</td><td>0.0</td><td>4.208</td><td>15</td><td>101</td><td>0</td></tr><tr><th>4</th><td>0.0</td><td>0.0</td><td>0.0</td><td>0.0</td><td>0.0</td><td>0.0</td><td>3.07</td><td>0.0</td><td>0.0</td><td>0.0</td><td>0.0</td><td>0.0</td><td>0.0</td><td>0.0</td><td>0.0</td><td>0.0</td><td>0.0</td><td>0.0</td><td>3.07</td><td>0.0</td><td>0.0</td><td>0.0</td><td>0.0</td><td>0.0</td><td>0.0</td><td>0.0</td><td>0.0</td><td>0.0</td><td>0.0</td><td>0.0</td><td>0.0</td><td>0.0</td><td>0.0</td><td>0.0</td><td>0.0</td><td>0.0</td><td>0.0</td><td>0.0</td><td>0.0</td><td>0.0</td><td>0.0</td><td>0.0</td><td>0.0</td><td>0.0</td><td>0.0</td><td>0.0</td><td>0.0</td><td>0.0</td><td>0.0</td><td>0.0</td><td>0.0</td><td>0.251</td><td>0.0</td><td>0.0</td><td>3.214</td><td>12</td><td>45</td><td>0</td></tr><tr><th>5</th><td>0.0</td><td>0.0</td><td>1.88</td><td>0.0</td><td>0.94</td><td>0.0</td><td>0.0</td><td>0.0</td><td>0.0</td><td>0.0</td><td>0.0</td><td>0.0</td><td>0.0</td><td>0.0</td><td>0.0</td><td>0.0</td><td>0.0</td><td>0.0</td><td>2.83</td><td>0.0</td><td>0.0</td><td>0.0</td><td>0.0</td><td>0.0</td><td>0.0</td><td>0.0</td><td>0.0</td><td>0.0</td><td>0.0</td><td>0.0</td><td>0.0</td><td>0.0</td><td>0.0</td><td>0.0</td><td>0.0</td><td>0.0</td><td>0.0</td><td>0.0</td><td>0.0</td><td>0.0</td><td>0.0</td><td>0.0</td><td>0.0</td><td>0.0</td><td>0.94</td><td>0.0</td><td>0.0</td><td>0.0</td><td>0.0</td><td>0.0</td><td>0.0</td><td>0.756</td><td>0.0</td><td>0.0</td><td>1.0</td><td>1</td><td>22</td><td>0</td></tr><tr><th>6</th><td>0.0</td><td>0.0</td><td>0.38</td><td>0.0</td><td>0.38</td><td>0.38</td><td>0.0</td><td>0.0</td><td>0.38</td><td>0.0</td><td>0.0</td><td>1.55</td><td>0.0</td><td>0.0</td><td>0.0</td><td>0.0</td><td>0.0</td><td>0.0</td><td>1.16</td><td>0.0</td><td>0.38</td><td>0.0</td><td>0.0</td><td>0.0</td><td>0.77</td><td>0.77</td><td>0.38</td><td>0.0</td><td>0.0</td><td>0.0</td><td>0.0</td><td>0.0</td><td>1.93</td><td>0.0</td><td>0.0</td><td>0.0</td><td>0.0</td><td>0.0</td><td>0.38</td><td>0.0</td><td>0.0</td><td>0.0</td><td>0.0</td><td>0.0</td><td>1.16</td><td>0.0</td><td>0.0</td><td>0.0</td><td>0.0</td><td>0.061</td><td>0.0</td><td>0.0</td><td>0.0</td><td>0.0</td><td>2.953</td><td>34</td><td>127</td><td>0</td></tr><tr><th>7</th><td>0.27</td><td>0.0</td><td>0.27</td><td>0.0</td><td>0.0</td><td>0.0</td><td>0.0</td><td>0.0</td><td>0.0</td><td>0.0</td><td>0.0</td><td>1.62</td><td>0.27</td><td>0.0</td><td>0.0</td><td>0.0</td><td>0.27</td><td>0.0</td><td>4.87</td><td>0.0</td><td>0.81</td><td>0.27</td><td>0.27</td><td>0.0</td><td>0.0</td><td>0.0</td><td>0.0</td><td>0.0</td><td>0.0</td><td>0.0</td><td>0.0</td><td>0.0</td><td>0.0</td><td>0.0</td><td>0.0</td><td>0.0</td><td>0.0</td><td>0.0</td><td>0.27</td><td>0.0</td><td>0.0</td><td>0.0</td><td>0.0</td><td>0.0</td><td>0.0</td><td>0.0</td><td>0.0</td><td>0.0</td><td>0.0</td><td>0.0</td><td>0.0</td><td>0.874</td><td>0.051</td><td>0.051</td><td>5.582</td><td>61</td><td>374</td><td>1</td></tr><tr><th>8</th><td>0.0</td><td>14.28</td><td>0.0</td><td>0.0</td><td>0.0</td><td>0.0</td><td>0.0</td><td>0.0</td><td>0.0</td><td>0.0</td><td>0.0</td><td>0.0</td><td>0.0</td><td>0.0</td><td>0.0</td><td>0.0</td><td>0.0</td><td>0.0</td><td>0.0</td><td>0.0</td><td>0.0</td><td>0.0</td><td>0.0</td><td>0.0</td><td>0.0</td><td>0.0</td><td>0.0</td><td>0.0</td><td>0.0</td><td>0.0</td><td>0.0</td><td>0.0</td><td>0.0</td><td>0.0</td><td>0.0</td><td>0.0</td><td>0.0</td><td>0.0</td><td>0.0</td><td>0.0</td><td>0.0</td><td>0.0</td><td>0.0</td><td>0.0</td><td>0.0</td><td>0.0</td><td>0.0</td><td>0.0</td><td>0.0</td><td>0.0</td><td>0.0</td><td>0.0</td><td>0.0</td><td>0.0</td><td>1.8</td><td>5</td><td>9</td><td>0</td></tr><tr><th>9</th><td>0.0</td><td>0.0</td><td>0.0</td><td>0.0</td><td>0.0</td><td>0.0</td><td>0.0</td><td>0.0</td><td>0.0</td><td>0.0</td><td>0.0</td><td>0.0</td><td>0.0</td><td>0.0</td><td>0.0</td><td>0.0</td><td>0.0</td><td>1.88</td><td>1.88</td><td>0.0</td><td>1.88</td><td>0.0</td><td>0.0</td><td>0.0</td><td>0.0</td><td>0.0</td><td>1.88</td><td>0.0</td><td>0.0</td><td>0.0</td><td>0.0</td><td>0.0</td><td>3.77</td><td>0.0</td><td>0.0</td><td>0.0</td><td>0.0</td><td>0.0</td><td>0.0</td><td>0.0</td><td>0.0</td><td>0.0</td><td>0.0</td><td>0.0</td><td>0.0</td><td>0.0</td><td>0.0</td><td>0.0</td><td>0.0</td><td>0.366</td><td>0.0</td><td>0.0</td><td>0.0</td><td>0.0</td><td>1.307</td><td>3</td><td>17</td><td>0</td></tr><tr><th>10</th><td>0.0</td><td>0.0</td><td>0.32</td><td>0.0</td><td>0.0</td><td>0.0</td><td>0.0</td><td>0.0</td><td>0.0</td><td>0.0</td><td>0.0</td><td>0.0</td><td>0.32</td><td>0.0</td><td>0.0</td><td>0.0</td><td>0.0</td><td>0.65</td><td>0.0</td><td>0.0</td><td>0.0</td><td>0.0</td><td>0.0</td><td>0.0</td><td>0.0</td><td>0.0</td><td>0.0</td><td>0.0</td><td>0.0</td><td>0.0</td><td>0.0</td><td>0.0</td><td>0.0</td><td>0.0</td><td>0.0</td><td>0.0</td><td>0.0</td><td>0.0</td><td>0.0</td><td>0.0</td><td>0.0</td><td>0.32</td><td>0.0</td><td>0.0</td><td>0.0</td><td>0.0</td><td>0.0</td><td>0.0</td><td>0.055</td><td>0.334</td><td>0.0</td><td>0.055</td><td>0.0</td><td>0.055</td><td>1.685</td><td>6</td><td>59</td><td>0</td></tr><tr><th>11</th><td>0.0</td><td>0.0</td><td>0.79</td><td>0.0</td><td>0.0</td><td>0.0</td><td>0.0</td><td>0.0</td><td>0.0</td><td>0.0</td><td>0.0</td><td>1.58</td><td>0.0</td><td>0.0</td><td>0.0</td><td>0.0</td><td>0.0</td><td>0.0</td><td>2.38</td><td>0.0</td><td>0.79</td><td>0.0</td><td>0.0</td><td>0.0</td><td>0.0</td><td>0.0</td><td>0.0</td><td>0.0</td><td>0.0</td><td>0.0</td><td>0.0</td><td>0.0</td><td>0.0</td><td>0.0</td><td>0.0</td><td>0.0</td><td>0.0</td><td>0.0</td><td>0.0</td><td>0.0</td><td>0.0</td><td>0.0</td><td>0.0</td><td>0.0</td><td>0.0</td><td>0.0</td><td>0.0</td><td>0.0</td><td>0.137</td><td>0.0</td><td>0.0</td><td>0.0</td><td>0.0</td><td>0.0</td><td>1.09</td><td>3</td><td>24</td><td>0</td></tr><tr><th>12</th><td>0.34</td><td>0.0</td><td>0.0</td><td>0.0</td><td>0.0</td><td>0.0</td><td>0.0</td><td>0.0</td><td>0.34</td><td>0.68</td><td>0.0</td><td>1.02</td><td>0.0</td><td>0.0</td><td>0.0</td><td>0.0</td><td>0.0</td><td>0.0</td><td>1.36</td><td>0.0</td><td>0.68</td><td>0.0</td><td>0.0</td><td>0.0</td><td>2.38</td><td>1.7</td><td>0.68</td><td>1.7</td><td>0.68</td><td>0.34</td><td>0.34</td><td>0.34</td><td>0.0</td><td>0.34</td><td>0.34</td><td>0.34</td><td>0.68</td><td>0.0</td><td>0.68</td><td>0.34</td><td>0.0</td><td>0.0</td><td>0.68</td><td>0.0</td><td>0.34</td><td>0.0</td><td>0.0</td><td>0.0</td><td>0.052</td><td>0.42</td><td>0.052</td><td>0.0</td><td>0.0</td><td>0.052</td><td>2.604</td><td>13</td><td>250</td><td>0</td></tr><tr><th>13</th><td>0.0</td><td>0.0</td><td>0.0</td><td>0.0</td><td>0.0</td><td>0.0</td><td>1.78</td><td>0.0</td><td>0.0</td><td>1.78</td><td>0.0</td><td>0.0</td><td>0.0</td><td>0.0</td><td>0.0</td><td>1.78</td><td>0.0</td><td>1.78</td><td>5.35</td><td>0.0</td><td>1.78</td><td>0.0</td><td>0.0</td><td>0.0</td><td>0.0</td><td>0.0</td><td>0.0</td><td>0.0</td><td>0.0</td><td>0.0</td><td>0.0</td><td>0.0</td><td>0.0</td><td>0.0</td><td>0.0</td><td>0.0</td><td>0.0</td><td>0.0</td><td>0.0</td><td>0.0</td><td>0.0</td><td>0.0</td><td>0.0</td><td>0.0</td><td>0.0</td><td>0.0</td><td>0.0</td><td>0.0</td><td>0.0</td><td>0.0</td><td>0.0</td><td>0.0</td><td>0.0</td><td>0.0</td><td>7.0</td><td>35</td><td>63</td><td>0</td></tr><tr><th>14</th><td>0.06</td><td>0.06</td><td>0.47</td><td>0.0</td><td>0.4</td><td>0.0</td><td>0.0</td><td>0.0</td><td>0.67</td><td>0.06</td><td>0.0</td><td>0.33</td><td>0.13</td><td>0.0</td><td>0.0</td><td>0.2</td><td>0.0</td><td>0.0</td><td>1.14</td><td>0.13</td><td>1.21</td><td>0.0</td><td>0.0</td><td>0.06</td><td>0.0</td><td>0.0</td><td>0.0</td><td>0.0</td><td>0.06</td><td>0.0</td><td>0.0</td><td>0.0</td><td>0.0</td><td>0.0</td><td>0.0</td><td>0.0</td><td>0.0</td><td>0.0</td><td>0.0</td><td>0.0</td><td>0.0</td><td>0.13</td><td>0.0</td><td>0.0</td><td>0.06</td><td>0.0</td><td>0.0</td><td>0.0</td><td>0.021</td><td>0.107</td><td>0.0</td><td>0.096</td><td>0.085</td><td>0.01</td><td>3.353</td><td>144</td><td>845</td><td>1</td></tr><tr><th>15</th><td>0.27</td><td>0.0</td><td>0.13</td><td>0.0</td><td>0.82</td><td>0.0</td><td>0.0</td><td>0.0</td><td>0.0</td><td>0.0</td><td>0.0</td><td>0.55</td><td>0.41</td><td>0.0</td><td>0.0</td><td>0.0</td><td>0.0</td><td>0.0</td><td>1.24</td><td>0.0</td><td>1.1</td><td>0.0</td><td>0.0</td><td>0.0</td><td>1.65</td><td>0.82</td><td>0.13</td><td>0.13</td><td>0.13</td><td>0.13</td><td>0.13</td><td>0.13</td><td>0.0</td><td>0.13</td><td>0.13</td><td>0.13</td><td>0.41</td><td>0.0</td><td>0.0</td><td>0.13</td><td>0.0</td><td>0.41</td><td>0.13</td><td>0.0</td><td>0.41</td><td>0.0</td><td>0.0</td><td>0.27</td><td>0.041</td><td>0.102</td><td>0.02</td><td>0.02</td><td>0.0</td><td>0.0</td><td>2.78</td><td>34</td><td>367</td><td>0</td></tr><tr><th>16</th><td>0.0</td><td>0.0</td><td>1.33</td><td>0.0</td><td>0.0</td><td>0.0</td><td>0.0</td><td>0.0</td><td>0.0</td><td>0.0</td><td>0.0</td><td>0.0</td><td>0.0</td><td>0.0</td><td>0.0</td><td>0.0</td><td>0.0</td><td>1.33</td><td>0.0</td><td>0.0</td><td>0.0</td><td>0.0</td><td>0.0</td><td>0.0</td><td>2.66</td><td>1.33</td><td>0.0</td><td>1.33</td><td>0.0</td><td>1.33</td><td>1.33</td><td>0.0</td><td>0.0</td><td>0.0</td><td>1.33</td><td>1.33</td><td>0.0</td><td>0.0</td><td>0.0</td><td>0.0</td><td>0.0</td><td>0.0</td><td>0.0</td><td>0.0</td><td>0.0</td><td>0.0</td><td>0.0</td><td>0.0</td><td>0.0</td><td>0.288</td><td>0.0</td><td>0.144</td><td>0.0</td><td>0.0</td><td>1.857</td><td>10</td><td>39</td><td>0</td></tr><tr><th>17</th><td>0.0</td><td>0.0</td><td>0.0</td><td>0.0</td><td>0.0</td><td>0.0</td><td>0.0</td><td>5.88</td><td>0.0</td><td>0.0</td><td>0.0</td><td>0.0</td><td>0.0</td><td>0.0</td><td>0.0</td><td>0.0</td><td>0.0</td><td>0.0</td><td>0.0</td><td>0.0</td><td>0.0</td><td>0.0</td><td>0.0</td><td>0.0</td><td>0.0</td><td>0.0</td><td>0.0</td><td>0.0</td><td>0.0</td><td>0.0</td><td>0.0</td><td>0.0</td><td>0.0</td><td>0.0</td><td>0.0</td><td>0.0</td><td>0.0</td><td>0.0</td><td>0.0</td><td>0.0</td><td>0.0</td><td>0.0</td><td>0.0</td><td>0.0</td><td>0.0</td><td>0.0</td><td>0.0</td><td>0.0</td><td>0.0</td><td>0.0</td><td>0.0</td><td>0.0</td><td>0.0</td><td>0.0</td><td>1.0</td><td>1</td><td>10</td><td>0</td></tr><tr><th>18</th><td>0.0</td><td>0.0</td><td>0.0</td><td>0.0</td><td>0.0</td><td>0.0</td><td>0.0</td><td>0.0</td><td>0.0</td><td>0.0</td><td>0.0</td><td>1.33</td><td>0.0</td><td>0.0</td><td>0.0</td><td>0.0</td><td>0.0</td><td>0.0</td><td>0.44</td><td>0.0</td><td>0.0</td><td>0.0</td><td>0.0</td><td>0.0</td><td>0.0</td><td>0.44</td><td>0.0</td><td>0.0</td><td>0.0</td><td>0.0</td><td>0.0</td><td>0.0</td><td>1.33</td><td>0.0</td><td>0.44</td><td>0.0</td><td>0.89</td><td>0.0</td><td>0.0</td><td>0.0</td><td>0.0</td><td>0.0</td><td>0.0</td><td>0.0</td><td>0.0</td><td>0.0</td><td>0.0</td><td>0.0</td><td>0.0</td><td>0.397</td><td>0.0</td><td>0.0</td><td>0.0</td><td>0.0</td><td>1.936</td><td>10</td><td>122</td><td>0</td></tr><tr><th>19</th><td>0.0</td><td>0.0</td><td>0.0</td><td>0.0</td><td>0.0</td><td>0.0</td><td>0.0</td><td>0.0</td><td>0.0</td><td>1.28</td><td>0.0</td><td>0.0</td><td>0.0</td><td>0.0</td><td>0.0</td><td>0.0</td><td>0.0</td><td>0.0</td><td>2.56</td><td>0.0</td><td>0.0</td><td>0.0</td><td>0.0</td><td>0.0</td><td>0.0</td><td>0.0</td><td>0.0</td><td>0.0</td><td>0.0</td><td>0.0</td><td>0.0</td><td>0.0</td><td>0.0</td><td>0.0</td><td>0.0</td><td>0.0</td><td>0.0</td><td>0.0</td><td>1.28</td><td>0.0</td><td>0.0</td><td>0.0</td><td>0.0</td><td>0.0</td><td>0.0</td><td>0.0</td><td>0.0</td><td>0.0</td><td>0.0</td><td>0.0</td><td>0.0</td><td>0.232</td><td>0.0</td><td>0.0</td><td>1.296</td><td>8</td><td>35</td><td>0</td></tr><tr><th>20</th><td>0.0</td><td>0.0</td><td>0.0</td><td>0.0</td><td>0.0</td><td>0.0</td><td>0.0</td><td>0.0</td><td>0.0</td><td>0.0</td><td>0.0</td><td>0.0</td><td>0.0</td><td>0.0</td><td>0.0</td><td>0.0</td><td>0.0</td><td>0.0</td><td>3.22</td><td>0.0</td><td>0.0</td><td>0.0</td><td>0.0</td><td>0.0</td><td>0.0</td><td>0.0</td><td>0.0</td><td>0.0</td><td>0.0</td><td>0.0</td><td>0.0</td><td>0.0</td><td>0.0</td><td>0.0</td><td>0.0</td><td>0.0</td><td>0.0</td><td>0.0</td><td>0.0</td><td>0.0</td><td>0.0</td><td>0.0</td><td>0.0</td><td>0.0</td><td>0.0</td><td>0.0</td><td>0.0</td><td>0.0</td><td>0.0</td><td>0.552</td><td>0.0</td><td>0.0</td><td>0.0</td><td>0.0</td><td>1.6</td><td>4</td><td>8</td><td>0</td></tr><tr><th>21</th><td>0.0</td><td>0.0</td><td>0.0</td><td>0.0</td><td>0.0</td><td>0.0</td><td>0.0</td><td>0.0</td><td>0.0</td><td>0.0</td><td>0.0</td><td>0.0</td><td>0.0</td><td>0.0</td><td>0.0</td><td>0.0</td><td>0.86</td><td>0.0</td><td>0.0</td><td>0.0</td><td>0.86</td><td>0.0</td><td>0.0</td><td>0.0</td><td>0.86</td><td>0.0</td><td>0.0</td><td>0.0</td><td>0.0</td><td>0.0</td><td>0.0</td><td>0.0</td><td>0.0</td><td>0.0</td><td>0.0</td><td>0.0</td><td>0.0</td><td>0.0</td><td>0.0</td><td>0.0</td><td>0.0</td><td>0.0</td><td>0.0</td><td>0.0</td><td>0.0</td><td>0.0</td><td>0.0</td><td>0.0</td><td>0.0</td><td>0.0</td><td>0.0</td><td>0.0</td><td>0.0</td><td>0.0</td><td>1.944</td><td>8</td><td>35</td><td>0</td></tr><tr><th>22</th><td>0.0</td><td>0.0</td><td>0.0</td><td>0.0</td><td>0.0</td><td>0.0</td><td>0.0</td><td>0.0</td><td>0.0</td><td>0.0</td><td>0.0</td><td>0.0</td><td>0.0</td><td>0.0</td><td>0.0</td><td>0.0</td><td>0.0</td><td>0.0</td><td>0.0</td><td>0.0</td><td>0.0</td><td>0.0</td><td>0.0</td><td>0.0</td><td>0.0</td><td>0.0</td><td>0.0</td><td>0.0</td><td>0.0</td><td>0.0</td><td>0.0</td><td>0.0</td><td>0.0</td><td>0.0</td><td>0.0</td><td>0.0</td><td>0.0</td><td>0.0</td><td>0.0</td><td>0.0</td><td>0.0</td><td>0.0</td><td>0.0</td><td>0.0</td><td>0.0</td><td>0.0</td><td>0.0</td><td>0.0</td><td>0.0</td><td>0.0</td><td>0.0</td><td>0.0</td><td>0.0</td><td>0.0</td><td>1.0</td><td>1</td><td>6</td><td>0</td></tr><tr><th>23</th><td>0.0</td><td>0.0</td><td>0.0</td><td>0.0</td><td>0.0</td><td>0.0</td><td>0.0</td><td>1.29</td><td>0.0</td><td>0.43</td><td>0.0</td><td>0.0</td><td>0.0</td><td>0.0</td><td>0.0</td><td>0.43</td><td>0.0</td><td>1.73</td><td>0.43</td><td>0.0</td><td>0.43</td><td>0.0</td><td>0.0</td><td>0.0</td><td>0.0</td><td>0.0</td><td>0.0</td><td>0.0</td><td>0.0</td><td>0.0</td><td>0.0</td><td>0.0</td><td>0.0</td><td>0.0</td><td>0.0</td><td>0.43</td><td>0.0</td><td>0.0</td><td>0.0</td><td>0.0</td><td>0.0</td><td>0.0</td><td>0.0</td><td>0.0</td><td>0.0</td><td>0.0</td><td>0.0</td><td>0.0</td><td>0.0</td><td>0.124</td><td>0.0</td><td>0.31</td><td>0.062</td><td>0.0</td><td>1.477</td><td>8</td><td>65</td><td>1</td></tr><tr><th>24</th><td>0.0</td><td>0.0</td><td>0.0</td><td>0.0</td><td>2.22</td><td>0.0</td><td>0.0</td><td>0.0</td><td>0.0</td><td>0.0</td><td>0.0</td><td>3.33</td><td>0.0</td><td>0.0</td><td>0.0</td><td>0.0</td><td>0.0</td><td>0.0</td><td>1.11</td><td>0.0</td><td>1.11</td><td>0.0</td><td>0.0</td><td>0.0</td><td>1.11</td><td>1.11</td><td>0.0</td><td>0.0</td><td>1.11</td><td>0.0</td><td>0.0</td><td>0.0</td><td>0.0</td><td>0.0</td><td>0.0</td><td>0.0</td><td>0.0</td><td>0.0</td><td>0.0</td><td>0.0</td><td>0.0</td><td>0.0</td><td>0.0</td><td>0.0</td><td>0.0</td><td>0.0</td><td>0.0</td><td>0.0</td><td>0.0</td><td>0.0</td><td>0.0</td><td>0.0</td><td>0.0</td><td>0.0</td><td>1.0</td><td>1</td><td>22</td><td>0</td></tr><tr><th>25</th><td>0.35</td><td>0.0</td><td>0.35</td><td>0.0</td><td>0.71</td><td>0.0</td><td>0.0</td><td>0.0</td><td>0.0</td><td>0.0</td><td>0.0</td><td>0.35</td><td>0.0</td><td>0.0</td><td>0.0</td><td>0.0</td><td>0.0</td><td>0.0</td><td>0.35</td><td>0.0</td><td>0.17</td><td>0.0</td><td>0.0</td><td>0.0</td><td>0.53</td><td>0.35</td><td>0.53</td><td>0.17</td><td>0.17</td><td>0.17</td><td>0.17</td><td>0.17</td><td>0.35</td><td>0.17</td><td>0.17</td><td>0.17</td><td>0.0</td><td>0.0</td><td>0.0</td><td>0.17</td><td>0.0</td><td>0.71</td><td>0.17</td><td>0.17</td><td>0.35</td><td>0.0</td><td>0.0</td><td>0.0</td><td>0.123</td><td>0.309</td><td>0.03</td><td>0.0</td><td>0.0</td><td>0.0</td><td>2.241</td><td>13</td><td>204</td><td>0</td></tr><tr><th>26</th><td>0.0</td><td>0.0</td><td>1.58</td><td>0.0</td><td>0.0</td><td>0.0</td><td>0.0</td><td>0.0</td><td>0.0</td><td>0.0</td><td>0.0</td><td>1.58</td><td>0.0</td><td>0.0</td><td>0.0</td><td>0.0</td><td>0.0</td><td>0.0</td><td>1.58</td><td>0.0</td><td>1.58</td><td>0.0</td><td>0.0</td><td>0.0</td><td>1.58</td><td>3.17</td><td>0.0</td><td>0.0</td><td>0.0</td><td>0.0</td><td>0.0</td><td>0.0</td><td>0.0</td><td>0.0</td><td>0.0</td><td>0.0</td><td>0.0</td><td>0.0</td><td>0.0</td><td>0.0</td><td>0.0</td><td>0.0</td><td>0.0</td><td>0.0</td><td>0.0</td><td>0.0</td><td>0.0</td><td>0.0</td><td>0.0</td><td>0.0</td><td>0.0</td><td>0.0</td><td>0.0</td><td>0.0</td><td>1.538</td><td>4</td><td>20</td><td>0</td></tr><tr><th>27</th><td>0.0</td><td>0.0</td><td>0.0</td><td>0.0</td><td>0.0</td><td>0.0</td><td>0.0</td><td>0.0</td><td>0.0</td><td>0.0</td><td>0.0</td><td>0.0</td><td>0.0</td><td>0.0</td><td>0.0</td><td>0.0</td><td>0.0</td><td>0.0</td><td>0.0</td><td>0.0</td><td>0.0</td><td>0.0</td><td>0.0</td><td>1.42</td><td>0.0</td><td>0.0</td><td>0.0</td><td>0.0</td><td>0.0</td><td>0.0</td><td>0.0</td><td>0.0</td><td>0.0</td><td>0.0</td><td>0.0</td><td>0.0</td><td>0.0</td><td>0.0</td><td>0.0</td><td>0.0</td><td>0.0</td><td>0.0</td><td>0.0</td><td>0.0</td><td>0.0</td><td>0.0</td><td>0.0</td><td>0.0</td><td>0.0</td><td>0.0</td><td>0.0</td><td>0.0</td><td>0.0</td><td>0.0</td><td>4.722</td><td>57</td><td>85</td><td>1</td></tr><tr><th>28</th><td>0.0</td><td>0.0</td><td>0.0</td><td>0.0</td><td>0.0</td><td>0.0</td><td>0.0</td><td>0.0</td><td>0.0</td><td>0.0</td><td>0.0</td><td>0.0</td><td>0.0</td><td>0.0</td><td>0.0</td><td>1.38</td><td>0.0</td><td>0.0</td><td>1.38</td><td>0.0</td><td>1.38</td><td>0.0</td><td>0.0</td><td>0.0</td><td>2.77</td><td>1.38</td><td>1.38</td><td>1.38</td><td>1.38</td><td>1.38</td><td>1.38</td><td>1.38</td><td>0.0</td><td>1.38</td><td>1.38</td><td>1.38</td><td>0.0</td><td>0.0</td><td>0.0</td><td>1.38</td><td>0.0</td><td>0.0</td><td>0.0</td><td>0.0</td><td>0.0</td><td>0.0</td><td>0.0</td><td>0.0</td><td>0.0</td><td>0.464</td><td>0.0</td><td>0.0</td><td>0.0</td><td>0.0</td><td>2.333</td><td>11</td><td>42</td><td>0</td></tr><tr><th>29</th><td>0.0</td><td>0.0</td><td>0.0</td><td>0.0</td><td>0.0</td><td>0.0</td><td>0.0</td><td>0.0</td><td>0.0</td><td>0.0</td><td>0.0</td><td>0.0</td><td>0.0</td><td>0.0</td><td>0.0</td><td>0.0</td><td>0.0</td><td>0.0</td><td>0.0</td><td>0.0</td><td>0.0</td><td>0.0</td><td>0.0</td><td>0.0</td><td>0.0</td><td>0.0</td><td>20.0</td><td>0.0</td><td>0.0</td><td>0.0</td><td>0.0</td><td>0.0</td><td>0.0</td><td>0.0</td><td>0.0</td><td>0.0</td><td>0.0</td><td>0.0</td><td>0.0</td><td>0.0</td><td>0.0</td><td>0.0</td><td>0.0</td><td>0.0</td><td>0.0</td><td>0.0</td><td>0.0</td><td>0.0</td><td>0.0</td><td>0.0</td><td>0.0</td><td>0.0</td><td>0.0</td><td>0.0</td><td>1.0</td><td>1</td><td>5</td><td>0</td></tr><tr><th>30</th><td>0.0</td><td>0.0</td><td>0.0</td><td>0.0</td><td>0.0</td><td>0.0</td><td>0.0</td><td>0.0</td><td>0.0</td><td>0.0</td><td>0.0</td><td>0.0</td><td>0.0</td><td>0.0</td><td>0.0</td><td>0.0</td><td>0.0</td><td>0.0</td><td>0.0</td><td>0.0</td><td>0.0</td><td>0.0</td><td>0.0</td><td>0.0</td><td>0.0</td><td>0.0</td><td>20.0</td><td>0.0</td><td>0.0</td><td>0.0</td><td>0.0</td><td>0.0</td><td>0.0</td><td>0.0</td><td>0.0</td><td>0.0</td><td>0.0</td><td>0.0</td><td>0.0</td><td>0.0</td><td>0.0</td><td>0.0</td><td>0.0</td><td>0.0</td><td>0.0</td><td>0.0</td><td>0.0</td><td>0.0</td><td>0.0</td><td>0.0</td><td>0.0</td><td>0.0</td><td>0.0</td><td>0.0</td><td>1.0</td><td>1</td><td>5</td><td>0</td></tr><tr><th>&vellip;</th><td>&vellip;</td><td>&vellip;</td><td>&vellip;</td><td>&vellip;</td><td>&vellip;</td><td>&vellip;</td><td>&vellip;</td><td>&vellip;</td><td>&vellip;</td><td>&vellip;</td><td>&vellip;</td><td>&vellip;</td><td>&vellip;</td><td>&vellip;</td><td>&vellip;</td><td>&vellip;</td><td>&vellip;</td><td>&vellip;</td><td>&vellip;</td><td>&vellip;</td><td>&vellip;</td><td>&vellip;</td><td>&vellip;</td><td>&vellip;</td><td>&vellip;</td><td>&vellip;</td><td>&vellip;</td><td>&vellip;</td><td>&vellip;</td><td>&vellip;</td><td>&vellip;</td><td>&vellip;</td><td>&vellip;</td><td>&vellip;</td><td>&vellip;</td><td>&vellip;</td><td>&vellip;</td><td>&vellip;</td><td>&vellip;</td><td>&vellip;</td><td>&vellip;</td><td>&vellip;</td><td>&vellip;</td><td>&vellip;</td><td>&vellip;</td><td>&vellip;</td><td>&vellip;</td><td>&vellip;</td><td>&vellip;</td><td>&vellip;</td><td>&vellip;</td><td>&vellip;</td><td>&vellip;</td><td>&vellip;</td><td>&vellip;</td><td>&vellip;</td><td>&vellip;</td><td>&vellip;</td></tr></tbody></table>"
      ],
      "text/plain": [
       "1534×58 DataFrame. Omitted printing of 52 columns\n",
       "│ Row  │ Column1  │ Column2  │ Column3  │ Column4  │ Column5  │ Column6  │\n",
       "│      │ \u001b[90mFloat64⍰\u001b[39m │ \u001b[90mFloat64⍰\u001b[39m │ \u001b[90mFloat64⍰\u001b[39m │ \u001b[90mFloat64⍰\u001b[39m │ \u001b[90mFloat64⍰\u001b[39m │ \u001b[90mFloat64⍰\u001b[39m │\n",
       "├──────┼──────────┼──────────┼──────────┼──────────┼──────────┼──────────┤\n",
       "│ 1    │ 0.0      │ 0.0      │ 0.0      │ 0.0      │ 0.0      │ 0.0      │\n",
       "│ 2    │ 0.0      │ 0.0      │ 0.0      │ 0.0      │ 0.93     │ 0.0      │\n",
       "│ 3    │ 0.0      │ 0.0      │ 0.0      │ 0.0      │ 0.0      │ 0.0      │\n",
       "│ 4    │ 0.0      │ 0.0      │ 0.0      │ 0.0      │ 0.0      │ 0.0      │\n",
       "│ 5    │ 0.0      │ 0.0      │ 1.88     │ 0.0      │ 0.94     │ 0.0      │\n",
       "│ 6    │ 0.0      │ 0.0      │ 0.38     │ 0.0      │ 0.38     │ 0.38     │\n",
       "│ 7    │ 0.27     │ 0.0      │ 0.27     │ 0.0      │ 0.0      │ 0.0      │\n",
       "│ 8    │ 0.0      │ 14.28    │ 0.0      │ 0.0      │ 0.0      │ 0.0      │\n",
       "│ 9    │ 0.0      │ 0.0      │ 0.0      │ 0.0      │ 0.0      │ 0.0      │\n",
       "│ 10   │ 0.0      │ 0.0      │ 0.32     │ 0.0      │ 0.0      │ 0.0      │\n",
       "⋮\n",
       "│ 1524 │ 0.0      │ 0.0      │ 0.0      │ 0.0      │ 0.0      │ 0.0      │\n",
       "│ 1525 │ 0.0      │ 0.0      │ 0.0      │ 0.0      │ 4.54     │ 0.0      │\n",
       "│ 1526 │ 0.0      │ 0.0      │ 0.0      │ 0.0      │ 0.0      │ 0.0      │\n",
       "│ 1527 │ 0.0      │ 0.0      │ 0.0      │ 0.0      │ 0.0      │ 0.0      │\n",
       "│ 1528 │ 0.0      │ 0.0      │ 0.0      │ 0.0      │ 0.0      │ 0.0      │\n",
       "│ 1529 │ 0.0      │ 0.0      │ 0.0      │ 0.0      │ 0.68     │ 0.0      │\n",
       "│ 1530 │ 0.0      │ 0.0      │ 0.0      │ 0.0      │ 0.0      │ 0.0      │\n",
       "│ 1531 │ 0.05     │ 0.0      │ 0.45     │ 0.0      │ 0.15     │ 0.1      │\n",
       "│ 1532 │ 0.0      │ 0.59     │ 0.0      │ 0.0      │ 0.0      │ 0.0      │\n",
       "│ 1533 │ 0.0      │ 0.0      │ 0.0      │ 0.0      │ 0.0      │ 0.0      │\n",
       "│ 1534 │ 0.0      │ 0.0      │ 0.0      │ 0.0      │ 0.0      │ 0.0      │"
      ]
     },
     "execution_count": 15,
     "metadata": {},
     "output_type": "execute_result"
    }
   ],
   "source": [
    "id = shuffle(1:n)\n",
    "data = data[id,:]\n",
    "train = data[1:3067,:]\n",
    "test = data[3068:end,:];"
   ]
  },
  {
   "cell_type": "code",
   "execution_count": 16,
   "metadata": {},
   "outputs": [
    {
     "data": {
      "text/plain": [
       "3067"
      ]
     },
     "execution_count": 16,
     "metadata": {},
     "output_type": "execute_result"
    }
   ],
   "source": [
    "X̃ = convert(Array{Float64},train[1:end-1]) \n",
    "p =size(X̃,2)\n",
    "n = size(X̃,1)"
   ]
  },
  {
   "cell_type": "code",
   "execution_count": null,
   "metadata": {},
   "outputs": [],
   "source": [
    "Σ = cov(X̃)\n",
    "F = eigen(Σ, scale=false)\n",
    "λ = F.values\n",
    "e = F.vectors\n",
    "perm = sortperm(λ,rev=true)\n",
    "λ = λ[perm]\n",
    "e = e[:,perm]"
   ]
  },
  {
   "cell_type": "code",
   "execution_count": null,
   "metadata": {},
   "outputs": [],
   "source": [
    "df1 = DataFrame(k=collect(1:p),λ=λ)\n",
    "fig1 = plot(df1,x=:k,y=:λ,Geom.point, Geom.line)\n",
    "\n",
    "df2 = DataFrame(k=collect(2:p),λ=λ[2:end])\n",
    "fig2 = plot(df2,x=:k,y=:λ,Geom.point, Geom.line)\n",
    "\n",
    "\n",
    "hstack(fig1,fig2)"
   ]
  },
  {
   "cell_type": "code",
   "execution_count": null,
   "metadata": {},
   "outputs": [],
   "source": [
    "\n",
    "pct = Float64[]\n",
    "for i=1:p\n",
    "    push!(pct,sum(λ[1:i])/sum(λ))\n",
    "end\n",
    "df = DataFrame(k=collect(1:p),pct=pct)\n",
    "\n",
    "plot(df,x=:k, y=:pct, Geom.point, Geom.line)\n"
   ]
  },
  {
   "cell_type": "code",
   "execution_count": null,
   "metadata": {},
   "outputs": [],
   "source": []
  }
 ],
 "metadata": {
  "kernelspec": {
   "display_name": "Julia 0.7.0",
   "language": "julia",
   "name": "julia-0.7"
  },
  "language_info": {
   "file_extension": ".jl",
   "mimetype": "application/julia",
   "name": "julia",
   "version": "0.7.0"
  }
 },
 "nbformat": 4,
 "nbformat_minor": 2
}
