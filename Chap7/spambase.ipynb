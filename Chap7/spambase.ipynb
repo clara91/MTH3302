{
 "cells": [
  {
   "cell_type": "markdown",
   "metadata": {},
   "source": [
    "# Spam classification. \n",
    "\n",
    "À l'aide de plusieurs caractérisitques du courriel, on souhaite déterminer s'il s'agit d'un spam ou d'un ham, un courriel légitime. Le jeu de données provient de ftp://ftp.ics.uci.edu/pub/machine-learning-databases/spambase/\n",
    "\n",
    "Number of Instances: 4601 (1813 Spam = 39.4%)\n",
    "Number of Attributes: 58 (57 continuous, 1 nominal class label)\n",
    "\n",
    "Attribute Information:\n",
    "The last column of 'spambase.data' denotes whether the e-mail was \n",
    "considered spam (1) or not (0), i.e. unsolicited commercial e-mail.  \n",
    "Most of the attributes indicate whether a particular word or\n",
    "character was frequently occuring in the e-mail.  The run-length\n",
    "attributes (55-57) measure the length of sequences of consecutive \n",
    "capital letters.  For the statistical measures of each attribute, \n",
    "see the end of this file.  Here are the definitions of the attributes:\n",
    "\n",
    "48 continuous real [0,100] attributes of type word_freq_WORD \n",
    "= percentage of words in the e-mail that match WORD,\n",
    "i.e. 100 * (number of times the WORD appears in the e-mail) / \n",
    "total number of words in e-mail.  A \"word\" in this case is any \n",
    "string of alphanumeric characters bounded by non-alphanumeric \n",
    "characters or end-of-string.\n",
    "\n",
    "6 continuous real [0,100] attributes of type char_freq_CHAR\n",
    "= percentage of characters in the e-mail that match CHAR,\n",
    "i.e. 100 * (number of CHAR occurences) / total characters in e-mail\n",
    "\n",
    "1 continuous real [1,...] attribute of type capital_run_length_average\n",
    "= average length of uninterrupted sequences of capital letters\n",
    "\n",
    "1 continuous integer [1,...] attribute of type capital_run_length_longest\n",
    "= length of longest uninterrupted sequence of capital letters\n",
    "\n",
    "1 continuous integer [1,...] attribute of type capital_run_length_total\n",
    "= sum of length of uninterrupted sequences of capital letters\n",
    "= total number of capital letters in the e-mail\n",
    "\n",
    "1 nominal {0,1} class attribute of type spam\n",
    "= denotes whether the e-mail was considered spam (1) or not (0), \n",
    "i.e. unsolicited commercial e-mail."
   ]
  },
  {
   "cell_type": "code",
   "execution_count": null,
   "metadata": {},
   "outputs": [],
   "source": [
    "# Julia V0.7\n",
    "using CSV, DataFrames, Gadfly, LinearAlgebra, Statistics, Random"
   ]
  },
  {
   "cell_type": "code",
   "execution_count": null,
   "metadata": {},
   "outputs": [],
   "source": [
    "data = CSV.read(\"spambase.data\",header=0)\n",
    "head(data)\n",
    "p = size(data,2)-1\n",
    "n = size(data,1)"
   ]
  },
  {
   "cell_type": "code",
   "execution_count": null,
   "metadata": {},
   "outputs": [],
   "source": [
    "id = shuffle(1:n)\n",
    "data = data[id,:]\n",
    "train = data[1:3067,:]\n",
    "test = data[3068:end,:];"
   ]
  },
  {
   "cell_type": "code",
   "execution_count": null,
   "metadata": {},
   "outputs": [],
   "source": [
    "X̃ = convert(Array{Float64},train[1:end-1]) \n",
    "p =size(X̃,2)\n",
    "n = size(X̃,1)"
   ]
  },
  {
   "cell_type": "code",
   "execution_count": null,
   "metadata": {},
   "outputs": [],
   "source": [
    "Σ = cov(X̃)\n",
    "F = eigen(Σ, scale=false)\n",
    "λ = F.values\n",
    "e = F.vectors\n",
    "perm = sortperm(λ,rev=true)\n",
    "λ = λ[perm]\n",
    "e = e[:,perm]"
   ]
  },
  {
   "cell_type": "code",
   "execution_count": null,
   "metadata": {},
   "outputs": [],
   "source": []
  },
  {
   "cell_type": "code",
   "execution_count": null,
   "metadata": {},
   "outputs": [],
   "source": []
  },
  {
   "cell_type": "code",
   "execution_count": null,
   "metadata": {},
   "outputs": [],
   "source": []
  },
  {
   "cell_type": "code",
   "execution_count": null,
   "metadata": {},
   "outputs": [],
   "source": []
  },
  {
   "cell_type": "code",
   "execution_count": null,
   "metadata": {},
   "outputs": [],
   "source": []
  },
  {
   "cell_type": "code",
   "execution_count": null,
   "metadata": {},
   "outputs": [],
   "source": [
    "df1 = DataFrame(k=collect(1:p),λ=λ)\n",
    "fig1 = plot(df1,x=:k,y=:λ,Geom.point, Geom.line)\n",
    "\n",
    "df2 = DataFrame(k=collect(2:p),λ=λ[2:end])\n",
    "fig2 = plot(df2,x=:k,y=:λ,Geom.point, Geom.line)\n",
    "\n",
    "\n",
    "hstack(fig1,fig2)"
   ]
  },
  {
   "cell_type": "code",
   "execution_count": null,
   "metadata": {},
   "outputs": [],
   "source": [
    "\n",
    "pct = Float64[]\n",
    "for i=1:p\n",
    "    push!(pct,sum(λ[1:i])/sum(λ))\n",
    "end\n",
    "df = DataFrame(k=collect(1:p),pct=pct)\n",
    "\n",
    "plot(df,x=:k, y=:pct, Geom.point, Geom.line)\n"
   ]
  },
  {
   "cell_type": "code",
   "execution_count": null,
   "metadata": {},
   "outputs": [],
   "source": []
  }
 ],
 "metadata": {
  "kernelspec": {
   "display_name": "Julia 0.7.0",
   "language": "julia",
   "name": "julia-0.7"
  },
  "language_info": {
   "file_extension": ".jl",
   "mimetype": "application/julia",
   "name": "julia",
   "version": "0.7.0"
  }
 },
 "nbformat": 4,
 "nbformat_minor": 2
}
