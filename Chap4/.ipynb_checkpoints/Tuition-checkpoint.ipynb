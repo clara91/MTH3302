{
 "cells": [
  {
   "cell_type": "code",
   "execution_count": 1,
   "metadata": {},
   "outputs": [
    {
     "name": "stderr",
     "output_type": "stream",
     "text": [
      "┌ Info: Loading DataFrames support into Gadfly.jl\n",
      "└ @ Gadfly /Users/jonathan/.julia/packages/Gadfly/ew1SM/src/mapping.jl:228\n"
     ]
    }
   ],
   "source": [
    "# Julia 0.7\n",
    "using CSV, DataFrames, Gadfly, GLM, Distributions"
   ]
  },
  {
   "cell_type": "code",
   "execution_count": 2,
   "metadata": {},
   "outputs": [
    {
     "data": {
      "text/html": [
       "<table class=\"data-frame\"><thead><tr><th></th><th>University</th><th>Tuition</th><th>Salary</th></tr><tr><th></th><th>String⍰</th><th>Int64⍰</th><th>Int64⍰</th></tr></thead><tbody><tr><th>1</th><td>Harvey Mudd College</td><td>50649</td><td>157400</td></tr><tr><th>2</th><td>Massachusetts Institute of Technology</td><td>46704</td><td>150400</td></tr><tr><th>3</th><td>Stanford University</td><td>46320</td><td>143100</td></tr><tr><th>4</th><td>California Institute of Technology</td><td>45390</td><td>143100</td></tr><tr><th>5</th><td>Harvard University</td><td>45278</td><td>142600</td></tr><tr><th>6</th><td>Princeton University</td><td>43450</td><td>141300</td></tr><tr><th>7</th><td>Yale University</td><td>47600</td><td>135400</td></tr><tr><th>8</th><td>University of California-Berkeley</td><td>13431</td><td>132300</td></tr><tr><th>9</th><td>Pennsylvania State University-Main Campus</td><td>17514</td><td>103100</td></tr><tr><th>10</th><td>Ohio State University-Main Campus</td><td>10037</td><td>95100</td></tr><tr><th>11</th><td>Rice University</td><td>42253</td><td>133600</td></tr><tr><th>12</th><td>Florida Institute of Technology</td><td>39290</td><td>102100</td></tr></tbody></table>"
      ],
      "text/latex": [
       "\\begin{tabular}{r|ccc}\n",
       "\t& University & Tuition & Salary\\\\\n",
       "\t\\hline\n",
       "\t1 & Harvey Mudd College & 50649 & 157400 \\\\\n",
       "\t2 & Massachusetts Institute of Technology & 46704 & 150400 \\\\\n",
       "\t3 & Stanford University & 46320 & 143100 \\\\\n",
       "\t4 & California Institute of Technology & 45390 & 143100 \\\\\n",
       "\t5 & Harvard University & 45278 & 142600 \\\\\n",
       "\t6 & Princeton University & 43450 & 141300 \\\\\n",
       "\t7 & Yale University & 47600 & 135400 \\\\\n",
       "\t8 & University of California-Berkeley & 13431 & 132300 \\\\\n",
       "\t9 & Pennsylvania State University-Main Campus & 17514 & 103100 \\\\\n",
       "\t10 & Ohio State University-Main Campus & 10037 & 95100 \\\\\n",
       "\t11 & Rice University & 42253 & 133600 \\\\\n",
       "\t12 & Florida Institute of Technology & 39290 & 102100 \\\\\n",
       "\\end{tabular}\n"
      ],
      "text/plain": [
       "12×3 DataFrame\n",
       "│ Row │ University                                │ Tuition │ Salary │\n",
       "│     │ \u001b[90mUnion{Missing, String}\u001b[39m                    │ \u001b[90mInt64⍰\u001b[39m  │ \u001b[90mInt64⍰\u001b[39m │\n",
       "├─────┼───────────────────────────────────────────┼─────────┼────────┤\n",
       "│ 1   │ Harvey Mudd College                       │ 50649   │ 157400 │\n",
       "│ 2   │ Massachusetts Institute of Technology     │ 46704   │ 150400 │\n",
       "│ 3   │ Stanford University                       │ 46320   │ 143100 │\n",
       "│ 4   │ California Institute of Technology        │ 45390   │ 143100 │\n",
       "│ 5   │ Harvard University                        │ 45278   │ 142600 │\n",
       "│ 6   │ Princeton University                      │ 43450   │ 141300 │\n",
       "│ 7   │ Yale University                           │ 47600   │ 135400 │\n",
       "│ 8   │ University of California-Berkeley         │ 13431   │ 132300 │\n",
       "│ 9   │ Pennsylvania State University-Main Campus │ 17514   │ 103100 │\n",
       "│ 10  │ Ohio State University-Main Campus         │ 10037   │ 95100  │\n",
       "│ 11  │ Rice University                           │ 42253   │ 133600 │\n",
       "│ 12  │ Florida Institute of Technology           │ 39290   │ 102100 │"
      ]
     },
     "execution_count": 2,
     "metadata": {},
     "output_type": "execute_result"
    }
   ],
   "source": [
    "data = CSV.read(\"tuition_vs_salary.csv\")"
   ]
  },
  {
   "cell_type": "code",
   "execution_count": null,
   "metadata": {},
   "outputs": [],
   "source": [
    "# Traçage des variables explicatives\n",
    "fig1 = plot(data, x=:Tuition, y=:Salary, Geom.point)"
   ]
  },
  {
   "cell_type": "code",
   "execution_count": null,
   "metadata": {},
   "outputs": [],
   "source": [
    "X₁ = collect(skipmissing(data[:Tuition]))\n",
    "Y = collect(skipmissing(data[:Salary]))\n",
    "n = length(Y)\n",
    "X = hcat(ones(n),X₁)\n",
    "p = size(X,2)-1"
   ]
  },
  {
   "cell_type": "code",
   "execution_count": null,
   "metadata": {},
   "outputs": [],
   "source": [
    "β̂ = (X'*X)\\X'*Y\n",
    "\n",
    "sample = layer( x=X[:,2], y=Y, Geom.point, Theme(default_color=\"deepskyblue\"))\n",
    "xx = hcat(ones(10),range(minimum(X₁),stop=maximum(X₁),length=10))\n",
    "regression = layer(x=xx[:,2], y = xx*β̂, Geom.line, Theme(default_color=\"red\"))\n",
    "\n",
    "plot(sample,regression ,\n",
    "    Guide.manual_color_key(\"Légende\", [\"Échantillon\", \"Régression\"], [\"deepskyblue\",\"red\"]),\n",
    "    Guide.xlabel(\"Tuition\"), Guide.ylabel(\"Salary\"))\n"
   ]
  },
  {
   "cell_type": "code",
   "execution_count": null,
   "metadata": {},
   "outputs": [],
   "source": [
    "# Validation des hypothèses 1 et 2\n",
    "Ŷ = X*β̂\n",
    "r = Y .- Ŷ\n",
    "plot(x=Ŷ, y=r, Geom.point, Guide.xlabel(\"Valeur prédite\"), Guide.ylabel(\"Résidu\"))"
   ]
  },
  {
   "cell_type": "code",
   "execution_count": null,
   "metadata": {},
   "outputs": [],
   "source": [
    "# Validation de l'hypothèse 4\n",
    "empirical = layer(x=Normal(), y=r/std(r), Stat.qq, Geom.point, Theme(default_color=\"deepskyblue\"))\n",
    "theoretical = layer(x=[-2 2], y=[-2 2], Geom.line, Theme(default_color=\"red\"))\n",
    "plot(empirical,theoretical,Guide.xlabel(\"Quantile théorique\"), Guide.ylabel(\"Quantile empirique\"))"
   ]
  },
  {
   "cell_type": "code",
   "execution_count": null,
   "metadata": {},
   "outputs": [],
   "source": [
    "SST = sum( (Y.- mean(Y) ).^2)\n",
    "SSE = sum( r.^2 )\n",
    "SSR = SST - SSE\n",
    "\n",
    "F₀ = (SSR/1) / (SSE/(n-1-1)) \n",
    "\n",
    "# On rejette H₀ au seuil de 5% si la valeur-p associé à F₀ est plus petite que 5%\n",
    "valeurp = ccdf(FDist(p,n-p-1),F₀)\n",
    "if valeurp<0.05\n",
    "    println(\"Comme la valeur-p = $valeurp<0.05, on rejette H_0. La régression est donc significative.\")\n",
    "else\n",
    "    println(\"Comme la valeur-p = $valeurp>0.05, on ne rejette pas H_0. La régression n'est donc pas significative.\")\n",
    "end\n",
    "\n",
    "# Calcul du coefficient de détermination\n",
    "R² = SSR/SST\n",
    "println(\"Le coefficient de détermination est $R²\")"
   ]
  },
  {
   "cell_type": "code",
   "execution_count": null,
   "metadata": {},
   "outputs": [],
   "source": []
  }
 ],
 "metadata": {
  "kernelspec": {
   "display_name": "Julia 0.7.0",
   "language": "julia",
   "name": "julia-0.7"
  },
  "language_info": {
   "file_extension": ".jl",
   "mimetype": "application/julia",
   "name": "julia",
   "version": "0.7.0"
  }
 },
 "nbformat": 4,
 "nbformat_minor": 2
}
